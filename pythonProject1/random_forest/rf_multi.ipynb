{
 "cells": [
  {
   "cell_type": "code",
   "execution_count": null,
   "outputs": [],
   "source": [
    "# 导入需要的包\n",
    "import numpy as np\n",
    "from sklearn.ensemble import RandomForestClassifier\n",
    "import pandas as pd\n",
    "from sklearn.model_selection import train_test_split"
   ],
   "metadata": {
    "collapsed": false,
    "pycharm": {
     "name": "#%%\n"
    }
   }
  },
  {
   "cell_type": "code",
   "execution_count": null,
   "outputs": [],
   "source": [
    "# 导入数据文档\n",
    "features = pd.read_excel('ur_url')"
   ],
   "metadata": {
    "collapsed": false,
    "pycharm": {
     "name": "#%%\n"
    }
   }
  },
  {
   "cell_type": "code",
   "execution_count": null,
   "outputs": [],
   "source": [
    "# 通过最后一行取出labels\n",
    "labels = np.array(features['type'])\n",
    "# 删除非标签信息\n",
    "features = features.drop('type', axis=1)\n",
    "features = features.drop('content', axis=1)\n",
    "features = np.array(features)\n",
    "# 将数据划分为训练集和验证集\n",
    "train_x, test_x, train_y, test_y = train_test_split(features, labels, test_size=0.25)"
   ],
   "metadata": {
    "collapsed": false,
    "pycharm": {
     "name": "#%%\n"
    }
   }
  },
  {
   "cell_type": "code",
   "execution_count": null,
   "outputs": [],
   "source": [
    "# 设置模型参数,参数均用GridSearchCV搜索出SOTA\n",
    "param = {'bootstrap':True, 'ccp_alpha':0.0, 'criterion':'cross_entropy',\n",
    "                      'max_depth':None, 'max_features':'auto', 'max_leaf_nodes':None,\n",
    "                      'max_samples':None, 'min_impurity_decrease':0.0,\n",
    "                      'min_impurity_split':None, 'min_samples_leaf':1,\n",
    "                      'min_samples_split':2, 'min_weight_fraction_leaf':0.0,\n",
    "                      'n_estimators':270, 'n_jobs':None, 'oob_score':False,\n",
    "                      'random_state':42, 'verbose':0, 'warm_start':False,'num_round':500}"
   ],
   "metadata": {
    "collapsed": false,
    "pycharm": {
     "name": "#%%\n"
    }
   }
  },
  {
   "cell_type": "code",
   "execution_count": null,
   "outputs": [],
   "source": [
    "# 训练模型\n",
    "model = RandomForestClassifier(param)\n"
   ],
   "metadata": {
    "collapsed": false,
    "pycharm": {
     "name": "#%%\n"
    }
   }
  }
 ],
 "metadata": {
  "kernelspec": {
   "display_name": "Python 3",
   "language": "python",
   "name": "python3"
  },
  "language_info": {
   "codemirror_mode": {
    "name": "ipython",
    "version": 2
   },
   "file_extension": ".py",
   "mimetype": "text/x-python",
   "name": "python",
   "nbconvert_exporter": "python",
   "pygments_lexer": "ipython2",
   "version": "2.7.6"
  }
 },
 "nbformat": 4,
 "nbformat_minor": 0
}