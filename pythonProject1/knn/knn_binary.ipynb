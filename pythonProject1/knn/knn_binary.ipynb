{
 "cells": [
  {
   "cell_type": "code",
   "execution_count": null,
   "metadata": {
    "collapsed": true
   },
   "outputs": [],
   "source": [
    "#导入需要的包\n",
    "import pandas as pd\n",
    "import numpy as np\n",
    "from sklearn.model_selection import train_test_split\n",
    "from sklearn import neighbors\n",
    "from sklearn.preprocessing import MinMaxScaler"
   ]
  },
  {
   "cell_type": "code",
   "execution_count": null,
   "outputs": [],
   "source": [
    "# 导入数据文档\n",
    "features = pd.read_excel('ur_url')"
   ],
   "metadata": {
    "collapsed": false,
    "pycharm": {
     "name": "#%%\n"
    }
   }
  },
  {
   "cell_type": "code",
   "execution_count": null,
   "outputs": [],
   "source": [],
   "metadata": {
    "collapsed": false,
    "pycharm": {
     "name": "#%%\n"
    }
   }
  },
  {
   "cell_type": "code",
   "execution_count": null,
   "outputs": [],
   "source": [
    "# 通过最后一行取出labels\n",
    "labels = np.array(features['type'])\n",
    "# 删除非标签信息\n",
    "features = features.drop('type', axis=1)\n",
    "features = features.drop('content', axis=1)\n",
    "features = np.array(features)"
   ],
   "metadata": {
    "collapsed": false,
    "pycharm": {
     "name": "#%%\n"
    }
   }
  },
  {
   "cell_type": "code",
   "execution_count": null,
   "outputs": [],
   "source": [
    "# 取出不同测井曲线的数据组合\n",
    "x1 = features[:, :2]#CNL&DEN\n",
    "x1_1 = features[:, [0,2]]#CNL&GR\n",
    "x1_2 = features[:, [0,3]]#CNL&RT\n",
    "x1_3 = features[:, [0,4]]#CNL&RXO\n",
    "x1_4 = features[:, [0,5]]#CNl&AC\n",
    "\n",
    "x2 = features[:, 1:3]#DEN&GR\n",
    "x2_1 = features[:,[1,3]]#DEN&RT\n",
    "x2_2 = features[:, [1,4]]#DEN&RXO\n",
    "x2_3 = features[:, [1,5]]#DEN&AC\n",
    "\n",
    "x3 = features[:, 2:4]#GR&RT\n",
    "x3_1 = features[:, [2,4]]#GR&RXO\n",
    "x3_2 = features[:, [2,5]]#GR&AC\n",
    "\n",
    "x4 = features[:, 3:5]#RT&RXO\n",
    "x4_1 = features[:, [3,5]]#RT&AC\n",
    "\n",
    "x5 = features[:, 4:5]#RXO&AC"
   ],
   "metadata": {
    "collapsed": false,
    "pycharm": {
     "name": "#%%\n"
    }
   }
  },
  {
   "cell_type": "code",
   "execution_count": null,
   "outputs": [],
   "source": [
    "# 针对不同的测井曲线划分训练集与测试集\n",
    "x1_train, x1_test, y1_train, y1_test = train_test_split(x1, labels, random_state=1, train_size=0.8)\n",
    "x1_1_train, x1_1_test, y1_1_train, y1_1_test = train_test_split(x1_1, labels, random_state=1, train_size=0.8)\n",
    "x1_2_train, x1_2_test, y1_2_train, y1_2_test = train_test_split(x1_2, labels, random_state=1, train_size=0.8)\n",
    "x1_3_train, x1_3_test, y1_3_train, y1_3_test = train_test_split(x1_3, labels, random_state=1, train_size=0.8)\n",
    "x1_4_train, x1_4_test, y1_4_train, y1_4_test = train_test_split(x1_4, labels, random_state=1, train_size=0.8)\n",
    "\n",
    "x2_train, x2_test, y2_train, y2_test = train_test_split(x2, labels, random_state=1, train_size=0.8)\n",
    "x2_1_train, x2_1_test, y2_1_train, y2_1_test = train_test_split(x2_1, labels, random_state=1, train_size=0.8)\n",
    "x2_2_train, x2_2_test, y2_2_train, y2_2_test = train_test_split(x2_2, labels, random_state=1, train_size=0.8)\n",
    "x2_3_train, x2_3_test, y2_3_train, y2_3_test = train_test_split(x2_3, labels, random_state=1, train_size=0.8)\n",
    "\n",
    "x3_train, x3_test, y3_train, y3_test = train_test_split(x3, labels, random_state=1, train_size=0.8)\n",
    "x3_1_train, x3_1_test, y3_1_train, y3_1_test = train_test_split(x3_1, labels, random_state=1, train_size=0.8)\n",
    "x3_2_train, x3_2_test, y3_2_train, y3_2_test = train_test_split(x3_2, labels, random_state=1, train_size=0.8)\n",
    "\n",
    "x4_train, x4_test, y4_train, y4_test = train_test_split(x4, labels, random_state=1, train_size=0.8)\n",
    "x4_1_train, x4_1_test, y4_1_train, y4_1_test = train_test_split(x4_1, labels, random_state=1, train_size=0.8)\n",
    "\n",
    "x5_train, x5_test, y5_train, y5_test = train_test_split(x5, labels, random_state=1, train_size=0.8)"
   ],
   "metadata": {
    "collapsed": false,
    "pycharm": {
     "name": "#%%\n"
    }
   }
  },
  {
   "cell_type": "code",
   "execution_count": null,
   "outputs": [],
   "source": [
    "# 创建归一化工具\n",
    "scaler = MinMaxScaler(feature_range=(0, 1))"
   ],
   "metadata": {
    "collapsed": false,
    "pycharm": {
     "name": "#%%\n"
    }
   }
  },
  {
   "cell_type": "code",
   "execution_count": null,
   "outputs": [],
   "source": [
    "# x1系列数据归一化\n",
    "x1_train_scaled = scaler.fit_transform(x1_train) #对x_train进行归一化处理\n",
    "x1_train = pd.DataFrame(x1_train_scaled)\n",
    "x1_test_scaled = scaler.fit_transform(x1_test) #对x_valid进行归一化处理\n",
    "x1_test = pd.DataFrame(x1_test_scaled)"
   ],
   "metadata": {
    "collapsed": false,
    "pycharm": {
     "name": "#%%\n"
    }
   }
  },
  {
   "cell_type": "code",
   "execution_count": null,
   "outputs": [],
   "source": [
    "# 针对x1数据创建knn分类器，测试分类效果\n",
    "knn1 = neighbors.KNeighborsClassifier()\n",
    "knn1.fit(x1_train,y1_train)\n",
    "score1 = knn1.score(x1_test,y1_test)"
   ],
   "metadata": {
    "collapsed": false,
    "pycharm": {
     "name": "#%%\n"
    }
   }
  },
  {
   "cell_type": "code",
   "execution_count": null,
   "outputs": [],
   "source": [
    "# x1_1系列数据归一化\n",
    "x1_1_train_scaled = scaler.fit_transform(x1_1_train) #对x_train进行归一化处理\n",
    "x1_1_train = pd.DataFrame(x1_1_train_scaled)\n",
    "x1_1_test_scaled = scaler.fit_transform(x1_1_test) #对x_valid进行归一化处理\n",
    "x1_1_test = pd.DataFrame(x1_1_test_scaled)"
   ],
   "metadata": {
    "collapsed": false,
    "pycharm": {
     "name": "#%%\n"
    }
   }
  },
  {
   "cell_type": "code",
   "execution_count": null,
   "outputs": [],
   "source": [
    "# 针对x1_1数据创建knn分类器，测试分类效果\n",
    "knn1_1 = neighbors.KNeighborsClassifier()\n",
    "knn1_1.fit(x1_1_train,y1_1_train)\n",
    "score1_1 = knn1_1.score(x1_1_test,y1_1_test)"
   ],
   "metadata": {
    "collapsed": false,
    "pycharm": {
     "name": "#%%\n"
    }
   }
  },
  {
   "cell_type": "code",
   "execution_count": null,
   "outputs": [],
   "source": [
    "# x1_2系列数据归一化\n",
    "x1_2_train_scaled = scaler.fit_transform(x1_2_train) #对x_train进行归一化处理\n",
    "x1_2_train = pd.DataFrame(x1_2_train_scaled)\n",
    "x1_2_test_scaled = scaler.fit_transform(x1_2_test) #对x_valid进行归一化处理\n",
    "x1_2_test = pd.DataFrame(x1_2_test_scaled)"
   ],
   "metadata": {
    "collapsed": false,
    "pycharm": {
     "name": "#%%\n"
    }
   }
  },
  {
   "cell_type": "code",
   "execution_count": null,
   "outputs": [],
   "source": [
    "# 针对x1_2数据创建knn分类器，测试分类效果\n",
    "knn1_2 = neighbors.KNeighborsClassifier()\n",
    "knn1_2.fit(x1_2_train,y1_2_train)\n",
    "score1_2 = knn1_2.score(x1_2_test,y1_2_test)"
   ],
   "metadata": {
    "collapsed": false,
    "pycharm": {
     "name": "#%%\n"
    }
   }
  },
  {
   "cell_type": "code",
   "execution_count": null,
   "outputs": [],
   "source": [
    "# x1_3系列数据归一化\n",
    "x1_3_train_scaled = scaler.fit_transform(x1_3_train) #对x_train进行归一化处理\n",
    "x1_3_train = pd.DataFrame(x1_3_train_scaled)\n",
    "x1_3_test_scaled = scaler.fit_transform(x1_3_test) #对x_valid进行归一化处理\n",
    "x1_3_test = pd.DataFrame(x1_3_test_scaled)"
   ],
   "metadata": {
    "collapsed": false,
    "pycharm": {
     "name": "#%%\n"
    }
   }
  },
  {
   "cell_type": "code",
   "execution_count": null,
   "outputs": [],
   "source": [
    "# 针对x1_3数据创建knn分类器，测试分类效果\n",
    "knn1_3 = neighbors.KNeighborsClassifier()\n",
    "knn1_3.fit(x1_3_train,y1_3_train)\n",
    "score1_3 = knn1_3.score(x1_3_test,y1_3_test)"
   ],
   "metadata": {
    "collapsed": false,
    "pycharm": {
     "name": "#%%\n"
    }
   }
  },
  {
   "cell_type": "code",
   "execution_count": null,
   "outputs": [],
   "source": [
    "# x1_4系列数据归一化\n",
    "x1_4_train_scaled = scaler.fit_transform(x1_4_train) #对x_train进行归一化处理\n",
    "x1_4_train = pd.DataFrame(x1_4_train_scaled)\n",
    "x1_4_test_scaled = scaler.fit_transform(x1_4_test) #对x_valid进行归一化处理\n",
    "x1_4_test = pd.DataFrame(x1_4_test_scaled)"
   ],
   "metadata": {
    "collapsed": false,
    "pycharm": {
     "name": "#%%\n"
    }
   }
  },
  {
   "cell_type": "code",
   "execution_count": null,
   "outputs": [],
   "source": [
    "# 针对x1_4数据创建knn分类器，测试分类效果\n",
    "knn1_4 = neighbors.KNeighborsClassifier()\n",
    "knn1_4.fit(x1_4_train,y1_4_train)\n",
    "score1_4 = knn1_4.score(x1_4_test,y1_4_test)"
   ],
   "metadata": {
    "collapsed": false,
    "pycharm": {
     "name": "#%%\n"
    }
   }
  },
  {
   "cell_type": "code",
   "execution_count": null,
   "outputs": [],
   "source": [
    "# x2系列数据归一化\n",
    "x2_train_scaled = scaler.fit_transform(x2_train) #对x_train进行归一化处理\n",
    "x2_train = pd.DataFrame(x2_train_scaled)\n",
    "x2_test_scaled = scaler.fit_transform(x2_test) #对x_valid进行归一化处理\n",
    "x2_test = pd.DataFrame(x2_test_scaled)"
   ],
   "metadata": {
    "collapsed": false,
    "pycharm": {
     "name": "#%%\n"
    }
   }
  },
  {
   "cell_type": "code",
   "execution_count": null,
   "outputs": [],
   "source": [
    "# 针对x2数据创建knn分类器，测试分类效果\n",
    "knn2 = neighbors.KNeighborsClassifier()\n",
    "knn2.fit(x2_train,y2_train)\n",
    "score2 = knn2.score(x2_test,y2_test)"
   ],
   "metadata": {
    "collapsed": false,
    "pycharm": {
     "name": "#%%\n"
    }
   }
  },
  {
   "cell_type": "code",
   "execution_count": null,
   "outputs": [],
   "source": [
    "# x2_1系列数据归一化\n",
    "x2_1_train_scaled = scaler.fit_transform(x2_1_train) #对x_train进行归一化处理\n",
    "x2_1_train = pd.DataFrame(x2_1_train_scaled)\n",
    "x2_1_test_scaled = scaler.fit_transform(x2_1_test) #对x_valid进行归一化处理\n",
    "x2_1_test = pd.DataFrame(x2_1_test_scaled)"
   ],
   "metadata": {
    "collapsed": false,
    "pycharm": {
     "name": "#%%\n"
    }
   }
  },
  {
   "cell_type": "code",
   "execution_count": null,
   "outputs": [],
   "source": [
    "# 针对x2_1数据创建knn分类器，测试分类效果\n",
    "knn2_1 = neighbors.KNeighborsClassifier()\n",
    "knn2_1.fit(x2_1_train,y2_1_train)\n",
    "score2_1 = knn2_1.score(x2_1_test,y2_1_test)"
   ],
   "metadata": {
    "collapsed": false,
    "pycharm": {
     "name": "#%%\n"
    }
   }
  },
  {
   "cell_type": "code",
   "execution_count": null,
   "outputs": [],
   "source": [
    "# x2_2系列数据归一化\n",
    "x2_2_train_scaled = scaler.fit_transform(x2_2_train) #对x_train进行归一化处理\n",
    "x2_2_train = pd.DataFrame(x2_2_train_scaled)\n",
    "x2_2_test_scaled = scaler.fit_transform(x2_2_test) #对x_valid进行归一化处理\n",
    "x2_2_test = pd.DataFrame(x2_2_test_scaled)"
   ],
   "metadata": {
    "collapsed": false,
    "pycharm": {
     "name": "#%%\n"
    }
   }
  },
  {
   "cell_type": "code",
   "execution_count": null,
   "outputs": [],
   "source": [
    "# 针对x2_2数据创建knn分类器，测试分类效果\n",
    "knn2_2 = neighbors.KNeighborsClassifier()\n",
    "knn2_2.fit(x2_2_train,y2_2_train)\n",
    "score2_2 = knn2_2.score(x2_2_test,y2_2_test)"
   ],
   "metadata": {
    "collapsed": false,
    "pycharm": {
     "name": "#%%\n"
    }
   }
  },
  {
   "cell_type": "code",
   "execution_count": null,
   "outputs": [],
   "source": [
    "# x2_3系列数据归一化\n",
    "x2_3_train_scaled = scaler.fit_transform(x2_3_train) #对x_train进行归一化处理\n",
    "x2_3_train = pd.DataFrame(x2_3_train_scaled)\n",
    "x2_3_test_scaled = scaler.fit_transform(x2_3_test) #对x_valid进行归一化处理\n",
    "x2_3_test = pd.DataFrame(x2_3_test_scaled)"
   ],
   "metadata": {
    "collapsed": false,
    "pycharm": {
     "name": "#%%\n"
    }
   }
  },
  {
   "cell_type": "code",
   "execution_count": null,
   "outputs": [],
   "source": [
    "# 针对x2_3数据创建knn分类器，测试分类效果\n",
    "knn2_3 = neighbors.KNeighborsClassifier()\n",
    "knn2_3.fit(x2_2_train,y2_2_train)\n",
    "score2_3 = knn2_3.score(x2_3_test,y2_3_test)"
   ],
   "metadata": {
    "collapsed": false,
    "pycharm": {
     "name": "#%%\n"
    }
   }
  },
  {
   "cell_type": "code",
   "execution_count": null,
   "outputs": [],
   "source": [
    "# x3系列数据归一化\n",
    "x3_train_scaled = scaler.fit_transform(x3_train) #对x_train进行归一化处理\n",
    "x3_train = pd.DataFrame(x3_train_scaled)\n",
    "x3_test_scaled = scaler.fit_transform(x3_test) #对x_valid进行归一化处理\n",
    "x3_test = pd.DataFrame(x3_test_scaled)"
   ],
   "metadata": {
    "collapsed": false,
    "pycharm": {
     "name": "#%%\n"
    }
   }
  },
  {
   "cell_type": "code",
   "execution_count": null,
   "outputs": [],
   "source": [
    "# 针对x3数据创建knn分类器，测试分类效果\n",
    "knn3 = neighbors.KNeighborsClassifier()\n",
    "knn3.fit(x3_train,y3_train)\n",
    "score3 = knn3.score(x3_test,y3_test)"
   ],
   "metadata": {
    "collapsed": false,
    "pycharm": {
     "name": "#%%\n"
    }
   }
  },
  {
   "cell_type": "code",
   "execution_count": null,
   "outputs": [],
   "source": [
    "# x3_1系列数据归一化\n",
    "x3_1_train_scaled = scaler.fit_transform(x3_1_train) #对x_train进行归一化处理\n",
    "x3_1_train = pd.DataFrame(x3_1_train_scaled)\n",
    "x3_1_test_scaled = scaler.fit_transform(x3_1_test) #对x_valid进行归一化处理\n",
    "x3_1_test = pd.DataFrame(x3_1_test_scaled)"
   ],
   "metadata": {
    "collapsed": false,
    "pycharm": {
     "name": "#%%\n"
    }
   }
  },
  {
   "cell_type": "code",
   "execution_count": null,
   "outputs": [],
   "source": [
    "# 针对x3_1数据创建knn分类器，测试分类效果\n",
    "knn3_1 = neighbors.KNeighborsClassifier()\n",
    "knn3_1.fit(x3_1_train,y3_1_train)\n",
    "score3_1 = knn3_1.score(x3_1_test,y3_1_test)"
   ],
   "metadata": {
    "collapsed": false,
    "pycharm": {
     "name": "#%%\n"
    }
   }
  },
  {
   "cell_type": "code",
   "execution_count": null,
   "outputs": [],
   "source": [
    "# x3_2系列数据归一化\n",
    "x3_2_train_scaled = scaler.fit_transform(x3_2_train) #对x_train进行归一化处理\n",
    "x3_2_train = pd.DataFrame(x3_2_train_scaled)\n",
    "x3_2_test_scaled = scaler.fit_transform(x3_2_test) #对x_valid进行归一化处理\n",
    "x3_2_test = pd.DataFrame(x3_2_test_scaled)"
   ],
   "metadata": {
    "collapsed": false,
    "pycharm": {
     "name": "#%%\n"
    }
   }
  },
  {
   "cell_type": "code",
   "execution_count": null,
   "outputs": [],
   "source": [
    "# 针对x3_2数据创建knn分类器，测试分类效果\n",
    "knn3_2 = neighbors.KNeighborsClassifier()\n",
    "knn3_2.fit(x3_2_train,y3_2_train)\n",
    "score3_2 = knn3_2.score(x3_2_test,y3_2_test)"
   ],
   "metadata": {
    "collapsed": false,
    "pycharm": {
     "name": "#%%\n"
    }
   }
  },
  {
   "cell_type": "code",
   "execution_count": null,
   "outputs": [],
   "source": [
    "# x4系列数据归一化\n",
    "x4_train_scaled = scaler.fit_transform(x4_train) #对x_train进行归一化处理\n",
    "x4_train = pd.DataFrame(x4_train_scaled)\n",
    "x4_test_scaled = scaler.fit_transform(x4_test) #对x_valid进行归一化处理\n",
    "x4_test = pd.DataFrame(x4_test_scaled)"
   ],
   "metadata": {
    "collapsed": false,
    "pycharm": {
     "name": "#%%\n"
    }
   }
  },
  {
   "cell_type": "code",
   "execution_count": null,
   "outputs": [],
   "source": [
    "# 针对x4数据创建knn分类器，测试分类效果\n",
    "knn4 = neighbors.KNeighborsClassifier()\n",
    "knn4.fit(x4_train,y4_train)\n",
    "score4 = knn4.score(x4_test,y4_test)"
   ],
   "metadata": {
    "collapsed": false,
    "pycharm": {
     "name": "#%%\n"
    }
   }
  },
  {
   "cell_type": "code",
   "execution_count": null,
   "outputs": [],
   "source": [
    "# x4_1系列数据归一化\n",
    "x4_1_train_scaled = scaler.fit_transform(x4_1_train) #对x_train进行归一化处理\n",
    "x4_1_train = pd.DataFrame(x4_1_train_scaled)\n",
    "x4_1_test_scaled = scaler.fit_transform(x4_1_test) #对x_valid进行归一化处理\n",
    "x4_1_test = pd.DataFrame(x4_1_test_scaled)"
   ],
   "metadata": {
    "collapsed": false,
    "pycharm": {
     "name": "#%%\n"
    }
   }
  },
  {
   "cell_type": "code",
   "execution_count": null,
   "outputs": [],
   "source": [
    "# 针对x4_1数据创建knn分类器，测试分类效果\n",
    "knn4_1 = neighbors.KNeighborsClassifier()\n",
    "knn4_1.fit(x4_1_train,y4_1_train)\n",
    "score4_1 = knn4_1.score(x4_1_test,y4_1_test)"
   ],
   "metadata": {
    "collapsed": false,
    "pycharm": {
     "name": "#%%\n"
    }
   }
  },
  {
   "cell_type": "code",
   "execution_count": null,
   "outputs": [],
   "source": [
    "# x5系列数据归一化\n",
    "x5_train_scaled = scaler.fit_transform(x5_train) #对x_train进行归一化处理\n",
    "x5_train = pd.DataFrame(x5_train_scaled)\n",
    "x5_test_scaled = scaler.fit_transform(x5_test) #对x_valid进行归一化处理\n",
    "x5_test = pd.DataFrame(x5_test_scaled)"
   ],
   "metadata": {
    "collapsed": false,
    "pycharm": {
     "name": "#%%\n"
    }
   }
  },
  {
   "cell_type": "code",
   "execution_count": null,
   "outputs": [],
   "source": [
    "# 针对x5数据创建knn分类器，测试分类效果\n",
    "knn5 = neighbors.KNeighborsClassifier()\n",
    "knn5.fit(x5_train,y5_train)\n",
    "score5 = knn5.score(x5_test,y5_test)"
   ],
   "metadata": {
    "collapsed": false,
    "pycharm": {
     "name": "#%%\n"
    }
   }
  }
 ],
 "metadata": {
  "kernelspec": {
   "display_name": "Python 3",
   "language": "python",
   "name": "python3"
  },
  "language_info": {
   "codemirror_mode": {
    "name": "ipython",
    "version": 2
   },
   "file_extension": ".py",
   "mimetype": "text/x-python",
   "name": "python",
   "nbconvert_exporter": "python",
   "pygments_lexer": "ipython2",
   "version": "2.7.6"
  }
 },
 "nbformat": 4,
 "nbformat_minor": 0
}