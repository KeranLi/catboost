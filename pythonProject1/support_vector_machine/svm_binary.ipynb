{
 "cells": [
  {
   "cell_type": "code",
   "execution_count": null,
   "metadata": {
    "collapsed": true
   },
   "outputs": [],
   "source": [
    "# 导入需要的包\n",
    "import numpy as np\n",
    "from sklearn import svm\n",
    "import pandas as pd\n",
    "from sklearn.model_selection import train_test_split"
   ]
  },
  {
   "cell_type": "code",
   "execution_count": null,
   "outputs": [],
   "source": [
    "# 导入数据文档\n",
    "features = pd.read_excel('ur_url')"
   ],
   "metadata": {
    "collapsed": false,
    "pycharm": {
     "name": "#%%\n"
    }
   }
  },
  {
   "cell_type": "code",
   "execution_count": null,
   "outputs": [],
   "source": [
    "# 通过最后一行取出labels\n",
    "labels = np.array(features['type'])\n",
    "# 删除非标签信息\n",
    "features = features.drop('type', axis=1)\n",
    "features = features.drop('content', axis=1)\n",
    "features = np.array(features)\n",
    "# 将数据划分为训练集和验证集\n",
    "train_x, test_x, train_y, test_y = train_test_split(features, labels, test_size=0.25)"
   ],
   "metadata": {
    "collapsed": false,
    "pycharm": {
     "name": "#%%\n"
    }
   }
  },
  {
   "cell_type": "code",
   "execution_count": null,
   "outputs": [],
   "source": [
    "# 取出不同测井曲线的数据组合\n",
    "x1 = features[:, :2]#CNL&DEN\n",
    "x1_1 = features[:, [0,2]]#CNL&GR\n",
    "x1_2 = features[:, [0,3]]#CNL&RT\n",
    "x1_3 = features[:, [0,4]]#CNL&RXO\n",
    "x1_4 = features[:, [0,5]]#CNl&AC\n",
    "\n",
    "x2 = features[:, 1:3]#DEN&GR\n",
    "x2_1 = features[:,[1,3]]#DEN&RT\n",
    "x2_2 = features[:, [1,4]]#DEN&RXO\n",
    "x2_3 = features[:, [1,5]]#DEN&AC\n",
    "\n",
    "x3 = features[:, 2:4]#GR&RT\n",
    "x3_1 = features[:, [2,4]]#GR&RXO\n",
    "x3_2 = features[:, [2,5]]#GR&AC\n",
    "\n",
    "x4 = features[:, 3:5]#RT&RXO\n",
    "x4_1 = features[:, [3,5]]#RT&AC\n",
    "\n",
    "x5 = features[:, 4:5]#RXO&AC"
   ],
   "metadata": {
    "collapsed": false,
    "pycharm": {
     "name": "#%%\n"
    }
   }
  },
  {
   "cell_type": "code",
   "execution_count": null,
   "outputs": [],
   "source": [
    "# 针对不同的测井曲线划分训练集与测试集\n",
    "x1_train, x1_test, y1_train, y1_test = train_test_split(x1, labels, random_state=1, train_size=0.8)\n",
    "x1_1_train, x1_1_test, y1_1_train, y1_1_test = train_test_split(x1_1, labels, random_state=1, train_size=0.8)\n",
    "x1_2_train, x1_2_test, y1_2_train, y1_2_test = train_test_split(x1_2, labels, random_state=1, train_size=0.8)\n",
    "x1_3_train, x1_3_test, y1_3_train, y1_3_test = train_test_split(x1_3, labels, random_state=1, train_size=0.8)\n",
    "x1_4_train, x1_4_test, y1_4_train, y1_4_test = train_test_split(x1_4, labels, random_state=1, train_size=0.8)\n",
    "\n",
    "x2_train, x2_test, y2_train, y2_test = train_test_split(x2, labels, random_state=1, train_size=0.8)\n",
    "x2_1_train, x2_1_test, y2_1_train, y2_1_test = train_test_split(x2_1, labels, random_state=1, train_size=0.8)\n",
    "x2_2_train, x2_2_test, y2_2_train, y2_2_test = train_test_split(x2_2, labels, random_state=1, train_size=0.8)\n",
    "x2_3_train, x2_3_test, y2_3_train, y2_3_test = train_test_split(x2_3, labels, random_state=1, train_size=0.8)\n",
    "\n",
    "x3_train, x3_test, y3_train, y3_test = train_test_split(x3, labels, random_state=1, train_size=0.8)\n",
    "x3_1_train, x3_1_test, y3_1_train, y3_1_test = train_test_split(x3_1, labels, random_state=1, train_size=0.8)\n",
    "x3_2_train, x3_2_test, y3_2_train, y3_2_test = train_test_split(x3_2, labels, random_state=1, train_size=0.8)\n",
    "\n",
    "x4_train, x4_test, y4_train, y4_test = train_test_split(x4, labels, random_state=1, train_size=0.8)\n",
    "x4_1_train, x4_1_test, y4_1_train, y4_1_test = train_test_split(x4_1, labels, random_state=1, train_size=0.8)\n",
    "\n",
    "x5_train, x5_test, y5_train, y5_test = train_test_split(x5, labels, random_state=1, train_size=0.8)"
   ],
   "metadata": {
    "collapsed": false,
    "pycharm": {
     "name": "#%%\n"
    }
   }
  },
  {
   "cell_type": "code",
   "execution_count": null,
   "outputs": [],
   "source": [
    "# 训练模型\n",
    "clf1 = svm.SVC(C=0.8, kernel='rbf', gamma=20, decision_function_shape='ovr')\n",
    "clf1.fit(x1_train, y1_train)\n",
    "\n",
    "clf1_1 = svm.SVC(C=0.8, kernel='rbf', gamma=20, decision_function_shape='ovr')\n",
    "clf1_1.fit(x1_1_train, y1_1_train)\n",
    "\n",
    "clf1_2 = svm.SVC(C=0.8, kernel='rbf', gamma=20, decision_function_shape='ovr')\n",
    "clf1_2.fit(x1_2_train, y1_2_train)\n",
    "\n",
    "clf1_3 = svm.SVC(C=0.8, kernel='rbf', gamma=20, decision_function_shape='ovr')\n",
    "clf1_3.fit(x1_3_train, y1_3_train)\n",
    "\n",
    "clf1_4 = svm.SVC(C=0.8, kernel='rbf', gamma=20, decision_function_shape='ovr')\n",
    "clf1_4.fit(x1_4_train, y1_4_train)\n",
    "\n",
    "clf2 = svm.SVC(C=0.8, kernel='rbf', gamma=20, decision_function_shape='ovr')\n",
    "clf2.fit(x2_train, y2_train)\n",
    "\n",
    "clf2_1 = svm.SVC(C=0.8, kernel='rbf', gamma=20, decision_function_shape='ovr')\n",
    "clf2_1.fit(x2_1_train, y2_1_train)\n",
    "\n",
    "clf2_2 = svm.SVC(C=0.8, kernel='rbf', gamma=20, decision_function_shape='ovr')\n",
    "clf2_2.fit(x2_2_train, y2_2_train)\n",
    "\n",
    "clf2_3 = svm.SVC(C=0.8, kernel='rbf', gamma=20, decision_function_shape='ovr')\n",
    "clf2_3.fit(x2_3_train, y2_3_train)\n",
    "\n",
    "clf3 = svm.SVC(C=0.8, kernel='rbf', gamma=20, decision_function_shape='ovr')\n",
    "clf3.fit(x3_train, y3_train)\n",
    "\n",
    "clf3_1 = svm.SVC(C=0.8, kernel='rbf', gamma=20, decision_function_shape='ovr')\n",
    "clf3_1.fit(x3_1_train, y3_1_train)\n",
    "\n",
    "clf3_2 = svm.SVC(C=0.8, kernel='rbf', gamma=20, decision_function_shape='ovr')\n",
    "clf3_2.fit(x3_2_train, y3_2_train)\n",
    "\n",
    "clf4 = svm.SVC(C=0.8, kernel='rbf', gamma=20, decision_function_shape='ovr')\n",
    "clf4.fit(x4_train, y4_train)\n",
    "\n",
    "clf4_1 = svm.SVC(C=0.8, kernel='rbf', gamma=20, decision_function_shape='ovr')\n",
    "clf4_1.fit(x4_1_train, y4_1_train)\n",
    "\n",
    "clf5 = svm.SVC(C=0.8, kernel='rbf', gamma=20, decision_function_shape='ovr')\n",
    "clf5.fit(x5_train, y5_train)"
   ],
   "metadata": {
    "collapsed": false,
    "pycharm": {
     "name": "#%%\n"
    }
   }
  },
  {
   "cell_type": "code",
   "execution_count": null,
   "outputs": [],
   "source": [
    "# 输出模型准确度\n",
    "print(clf1.score(x1_train, y1_train))  # 精度\n",
    "print(clf1.score(x1_test, y1_test))\n",
    "print(clf1_1.score(x1_1_train, y1_1_train))  # 精度\n",
    "print(clf1_1.score(x1_1_test, y1_1_test))\n",
    "print(clf1_2.score(x1_2_train, y1_2_train))  # 精度\n",
    "print(clf1_2.score(x1_2_test, y1_2_test))\n",
    "print(clf1_3.score(x1_3_train, y1_3_train))  # 精度\n",
    "print(clf1_3.score(x1_3_test, y1_3_test))\n",
    "print(clf1_4.score(x1_4_train, y1_4_train))  # 精度\n",
    "print(clf1_4.score(x1_4_test, y1_4_test))\n",
    "print(clf2.score(x2_train, y2_train))  # 精度\n",
    "print(clf2.score(x2_test, y2_test))\n",
    "print(clf2_1.score(x2_1_train, y2_1_train))  # 精度\n",
    "print(clf2_1.score(x2_1_test, y2_1_test))\n",
    "print(clf2_2.score(x2_2_train, y2_2_train))  # 精度\n",
    "print(clf2_2.score(x2_2_test, y2_2_test))\n",
    "print(clf2_3.score(x2_3_train, y2_3_train))  # 精度\n",
    "print(clf2_3.score(x2_3_test, y2_3_test))\n",
    "print(clf3.score(x3_train, y3_train))  # 精度\n",
    "print(clf3.score(x3_test, y3_test))\n",
    "print(clf3_1.score(x3_1_train, y3_1_train))  # 精度\n",
    "print(clf3_1.score(x3_1_test, y3_1_test))\n",
    "print(clf3_2.score(x3_2_train, y3_2_train))  # 精度\n",
    "print(clf3_2.score(x3_2_test, y3_2_test))\n",
    "print(clf4.score(x4_train, y4_train))  # 精度\n",
    "print(clf4.score(x4_test, y4_test))\n",
    "print(clf4_1.score(x4_1_train, y4_1_train))  # 精度\n",
    "print(clf4_1.score(x4_1_test, y4_1_test))\n",
    "print(clf5.score(x5_train, y5_train))  # 精度\n",
    "print(clf5.score(x5_test, y5_test))"
   ],
   "metadata": {
    "collapsed": false,
    "pycharm": {
     "name": "#%%\n"
    }
   }
  }
 ],
 "metadata": {
  "kernelspec": {
   "display_name": "Python 3",
   "language": "python",
   "name": "python3"
  },
  "language_info": {
   "codemirror_mode": {
    "name": "ipython",
    "version": 2
   },
   "file_extension": ".py",
   "mimetype": "text/x-python",
   "name": "python",
   "nbconvert_exporter": "python",
   "pygments_lexer": "ipython2",
   "version": "2.7.6"
  }
 },
 "nbformat": 4,
 "nbformat_minor": 0
}